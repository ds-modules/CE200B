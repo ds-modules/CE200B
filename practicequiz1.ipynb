{
 "cells": [
  {
   "cell_type": "markdown",
   "id": "56fb496a-2019-420d-8a0a-a33e917d8fc0",
   "metadata": {},
   "source": [
    "Consider a 60-cell photovoltaic panel, 3.25 feet by 5.5 feet, and assume that it produces 300 Watts for 5 hours each day, 150 Watts for 7 hours each day, and 0 watts for the remaining 12 hours each day. \n",
    "\n",
    "Now consider a region of the ocean surface, 3.25 feet by 5.5 feet, and assume the waves passing through this area have amplitude $\\eta_{max} = 0.4 m$ all day long.  Assume that a wave-energy extraction device extracts 50% of the available wave energy and provides 50% of that as electricity (for a total of 25% efficiency).\n",
    "\n",
    "\n",
    "How does the electricity provided by a wave-energy extraction device compare to that from a photovoltaic panel?\n"
   ]
  },
  {
   "cell_type": "code",
   "execution_count": 11,
   "id": "1d3780b5-f878-4396-8cfd-85d95036154f",
   "metadata": {},
   "outputs": [
    {
     "name": "stdout",
     "output_type": "stream",
     "text": [
      "4335.679284917005\n",
      "1.7986028544000003\n"
     ]
    }
   ],
   "source": [
    "A=(3.52*12*2.54/100)*(5.5*12*2.54/100) #square meters\n",
    "ES=((300*5)+(150*7))/24 #power averaged over the day in watt-hours\n",
    "ESj=ES*3600 #power averaged over the day in Joules\n",
    "rho=1000 #kg m3\n",
    "g=9.81 #m/s2\n",
    "eta_max=.4 #m\n",
    "EW=(1/4)*A*(1/8)*(rho*g)*(eta_max**2) #joules\n",
    "print(ESj/EW)\n",
    "print(A)"
   ]
  }
 ],
 "metadata": {
  "kernelspec": {
   "display_name": "Python 3 (ipykernel)",
   "language": "python",
   "name": "python3"
  },
  "language_info": {
   "codemirror_mode": {
    "name": "ipython",
    "version": 3
   },
   "file_extension": ".py",
   "mimetype": "text/x-python",
   "name": "python",
   "nbconvert_exporter": "python",
   "pygments_lexer": "ipython3",
   "version": "3.9.15"
  }
 },
 "nbformat": 4,
 "nbformat_minor": 5
}
