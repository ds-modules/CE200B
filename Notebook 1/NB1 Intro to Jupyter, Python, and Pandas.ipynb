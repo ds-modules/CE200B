{
 "cells": [
  {
   "cell_type": "markdown",
   "id": "a55ffa22",
   "metadata": {},
   "source": [
    "# Notebook 1: Intro to Jupyter, Python, & Pandas"
   ]
  },
  {
   "cell_type": "markdown",
   "id": "999dece1",
   "metadata": {},
   "source": [
    "Welcome to CIVENG-119 Notebook 1! \n",
    "\n",
    "In this notebook you will learn how to:\n",
    " 1. Navigate Jupyter Notebooks (like this one)\n",
    " 2. Write and edit text and code cells\n",
    " 3. Use the `pandas` library \n",
    " 4. Load in data and manipulate it using `pandas`"
   ]
  },
  {
   "cell_type": "markdown",
   "id": "39317f85",
   "metadata": {},
   "source": [
    "\n",
    "# Welcome to Jupyter"
   ]
  },
  {
   "cell_type": "markdown",
   "id": "7c99df6a",
   "metadata": {},
   "source": [
    "The purpose of this section is to introduce you to the basics of a Jupyter notebook or remind you if you have already taken a class like Data 8. "
   ]
  },
  {
   "cell_type": "markdown",
   "id": "96c8f9f0",
   "metadata": {},
   "source": [
    "## What is a Jupyter Notebook?"
   ]
  },
  {
   "cell_type": "markdown",
   "id": "c6291a76",
   "metadata": {},
   "source": [
    "This webpage is called a Jupyter notebook. A notebook is a place to write programs and view their results, and also to write text. Jupyter notebooks allow you to combine all of these elements in one place."
   ]
  },
  {
   "cell_type": "markdown",
   "id": "a7b35cc7",
   "metadata": {},
   "source": [
    "### Text Cells\n",
    "\n",
    "In a notebook, each rectangle containing text or code is called a *cell*.\n",
    "\n",
    "Text cells (like this one) can be edited by double-clicking on them. They're written in a simple format called  [markdown](http://daringfireball.net/projects/markdown/syntax) to add formatting and section headings. \n",
    "You don't need to learn too much about markdown.\n",
    "\n",
    "After you edit a text cell, click the \"run cell\" button at the top that looks like `▶` in the toolbar at the top of this window, or hold down `shift` + press `return` or `enter`, to confirm any changes to the text and formatting.\n",
    "\n"
   ]
  },
  {
   "cell_type": "markdown",
   "id": "ed3858bc",
   "metadata": {},
   "source": [
    "**Your Turn:** This paragraph is in its own text cell. Try editing it so that this sentence is the last sentence in the paragraph, and then click the \"run cell\" `▶|` button or hold down `shift` + `return` or `enter`. "
   ]
  },
  {
   "cell_type": "markdown",
   "id": "32ca03a2",
   "metadata": {},
   "source": [
    "### Code Cells"
   ]
  },
  {
   "cell_type": "markdown",
   "id": "27f9c708",
   "metadata": {},
   "source": [
    "Code cells contain code in the Python 3 language. Running a code cell will execute all of the code it contains.\n",
    "\n",
    "To run the code in a code cell, first click on that cell to activate it.  It'll be highlighted with a little green or blue rectangle.  Next, either press `▶|` or hold down `shift` + `return` or `enter`.\n",
    "\n",
    "Try running this cell:"
   ]
  },
  {
   "cell_type": "code",
   "execution_count": 7,
   "id": "db810443",
   "metadata": {},
   "outputs": [
    {
     "name": "stdout",
     "output_type": "stream",
     "text": [
      "Hello, World!\n"
     ]
    }
   ],
   "source": [
    "print(\"Hello, World!\")"
   ]
  },
  {
   "cell_type": "markdown",
   "id": "4a45b098",
   "metadata": {},
   "source": [
    "The fundamental building block of Python code is an expression. Cells can contain multiple lines with multiple expressions. When you run a cell, the lines of code are executed in the order in which they appear. Every `print` expression prints a line. Run the next cell and notice the order of the output."
   ]
  },
  {
   "cell_type": "code",
   "execution_count": 8,
   "id": "f06c1c3d",
   "metadata": {},
   "outputs": [
    {
     "name": "stdout",
     "output_type": "stream",
     "text": [
      "First this line is printed,\n",
      "Go 🐻s,\n",
      "and then this one.\n"
     ]
    }
   ],
   "source": [
    "print(\"First this line is printed,\")\n",
    "print(\"Go \\N{Bear Face}s,\")\n",
    "print(\"and then this one.\")"
   ]
  },
  {
   "cell_type": "markdown",
   "id": "6e22f170",
   "metadata": {},
   "source": [
    "<br>\n",
    "\n",
    "# Introduction to the Data"
   ]
  },
  {
   "cell_type": "markdown",
   "id": "fa443487",
   "metadata": {},
   "source": [
    "Throughout this notebook we will be using one data set to introduce the pandas package, and data manipulation methods. The dataset contains PM2.5 microenvironmental exposure levels measured from wearable PM2.5 monitors, along with position from GPS data loggers.\n",
    "\n",
    "**What is PM2.5?**\n",
    ">Fine particulate matter (PM2.5) are solid or liquid particles suspended in air, where particles have an aerodynamic diameter less than or equal to 2.5 microns. At high levels, PM2.5 particles can reduce visibility and cause the air to appear hazy. Tracking PM2.5 is important because prolonged exposure to high levels of PM2.5 can cause adverse health effects to humans. The U.S. Environmental Protection Agency (EPA) enforces the National Ambient Air Quality Standards to minimize ambient PM2.5 pollution, where the annual and 24-hour limit is 12 and 35 ug/m^3, respectively.  \n",
    "\n",
    "**Run the cell below to take a look at the data!**"
   ]
  },
  {
   "cell_type": "code",
   "execution_count": 14,
   "id": "fa30a66d",
   "metadata": {},
   "outputs": [
    {
     "data": {
      "text/html": [
       "<div>\n",
       "<style scoped>\n",
       "    .dataframe tbody tr th:only-of-type {\n",
       "        vertical-align: middle;\n",
       "    }\n",
       "\n",
       "    .dataframe tbody tr th {\n",
       "        vertical-align: top;\n",
       "    }\n",
       "\n",
       "    .dataframe thead th {\n",
       "        text-align: right;\n",
       "    }\n",
       "</style>\n",
       "<table border=\"1\" class=\"dataframe\">\n",
       "  <thead>\n",
       "    <tr style=\"text-align: right;\">\n",
       "      <th></th>\n",
       "      <th>Date</th>\n",
       "      <th>Time</th>\n",
       "      <th>GPS Lat</th>\n",
       "      <th>GPS Long</th>\n",
       "      <th>Mesh Lat</th>\n",
       "      <th>Mesh Long</th>\n",
       "      <th>PE PM2.5</th>\n",
       "      <th>Mesh PM2.5</th>\n",
       "      <th>Difference (PE PM25 - Mesh PM25)</th>\n",
       "      <th>EnvClass</th>\n",
       "      <th>Activity</th>\n",
       "    </tr>\n",
       "  </thead>\n",
       "  <tbody>\n",
       "    <tr>\n",
       "      <th>0</th>\n",
       "      <td>2019-04-07</td>\n",
       "      <td>12:26:35</td>\n",
       "      <td>33.93927</td>\n",
       "      <td>-117.20816</td>\n",
       "      <td>33.93977</td>\n",
       "      <td>-117.20833</td>\n",
       "      <td>1.33333</td>\n",
       "      <td>9.45786</td>\n",
       "      <td>-8.12452</td>\n",
       "      <td>NaN</td>\n",
       "      <td>NaN</td>\n",
       "    </tr>\n",
       "    <tr>\n",
       "      <th>1</th>\n",
       "      <td>2019-04-07</td>\n",
       "      <td>12:26:40</td>\n",
       "      <td>33.93927</td>\n",
       "      <td>-117.20654</td>\n",
       "      <td>33.93977</td>\n",
       "      <td>-117.20604</td>\n",
       "      <td>1.00000</td>\n",
       "      <td>9.42258</td>\n",
       "      <td>-8.42258</td>\n",
       "      <td>NaN</td>\n",
       "      <td>NaN</td>\n",
       "    </tr>\n",
       "    <tr>\n",
       "      <th>2</th>\n",
       "      <td>2019-04-07</td>\n",
       "      <td>12:26:45</td>\n",
       "      <td>33.93925</td>\n",
       "      <td>-117.20492</td>\n",
       "      <td>33.93977</td>\n",
       "      <td>-117.20604</td>\n",
       "      <td>1.00000</td>\n",
       "      <td>9.42258</td>\n",
       "      <td>-8.42258</td>\n",
       "      <td>NaN</td>\n",
       "      <td>NaN</td>\n",
       "    </tr>\n",
       "    <tr>\n",
       "      <th>3</th>\n",
       "      <td>2019-04-07</td>\n",
       "      <td>12:26:50</td>\n",
       "      <td>33.93923</td>\n",
       "      <td>-117.20337</td>\n",
       "      <td>33.93977</td>\n",
       "      <td>-117.20376</td>\n",
       "      <td>1.00000</td>\n",
       "      <td>9.38727</td>\n",
       "      <td>-8.38727</td>\n",
       "      <td>NaN</td>\n",
       "      <td>NaN</td>\n",
       "    </tr>\n",
       "    <tr>\n",
       "      <th>4</th>\n",
       "      <td>2019-04-07</td>\n",
       "      <td>12:26:55</td>\n",
       "      <td>33.93923</td>\n",
       "      <td>-117.20184</td>\n",
       "      <td>33.93977</td>\n",
       "      <td>-117.20147</td>\n",
       "      <td>1.00000</td>\n",
       "      <td>9.35192</td>\n",
       "      <td>-8.35192</td>\n",
       "      <td>NaN</td>\n",
       "      <td>NaN</td>\n",
       "    </tr>\n",
       "  </tbody>\n",
       "</table>\n",
       "</div>"
      ],
      "text/plain": [
       "        Date      Time   GPS Lat   GPS Long  Mesh Lat  Mesh Long  PE PM2.5  \\\n",
       "0 2019-04-07  12:26:35  33.93927 -117.20816  33.93977 -117.20833   1.33333   \n",
       "1 2019-04-07  12:26:40  33.93927 -117.20654  33.93977 -117.20604   1.00000   \n",
       "2 2019-04-07  12:26:45  33.93925 -117.20492  33.93977 -117.20604   1.00000   \n",
       "3 2019-04-07  12:26:50  33.93923 -117.20337  33.93977 -117.20376   1.00000   \n",
       "4 2019-04-07  12:26:55  33.93923 -117.20184  33.93977 -117.20147   1.00000   \n",
       "\n",
       "   Mesh PM2.5  Difference (PE PM25 - Mesh PM25) EnvClass Activity  \n",
       "0     9.45786                          -8.12452      NaN      NaN  \n",
       "1     9.42258                          -8.42258      NaN      NaN  \n",
       "2     9.42258                          -8.42258      NaN      NaN  \n",
       "3     9.38727                          -8.38727      NaN      NaN  \n",
       "4     9.35192                          -8.35192      NaN      NaN  "
      ]
     },
     "execution_count": 14,
     "metadata": {},
     "output_type": "execute_result"
    }
   ],
   "source": [
    "# The code line below imports the pandas package (which we will learn more about soon).\n",
    "import pandas as pd\n",
    "import numpy as np\n",
    "\n",
    "# The code lines below use the pandas package, under alias 'pd', to read in the csv dataset file and display it.\n",
    "data = pd.read_excel('datasets/Personal_Exposures.xlsx')\n",
    "data.head()"
   ]
  },
  {
   "attachments": {
    "image.png": {
     "image/png": "[encoded data removed]"
    }
   },
   "cell_type": "markdown",
   "id": "a70707dc",
   "metadata": {},
   "source": [
    "You might have noticed that there are two types of PM2.5 data, `PE PM2.5` and `Mesh PM2.5`. `PE PM2.5` represents personal exposure PM2.5 measurements from wearable PM2.5 monitors. These monitiors were worn by various community participants in inland Southern California and continuosly took measurements over several days. `Mesh PM 2.5` represents the corresponding value of interpolated PM2.5 measurements made at regulatory air monitoring sites. See an example mesh below:\n",
    "\n",
    "![image.png](attachment:image.png)"
   ]
  },
  {
   "cell_type": "markdown",
   "id": "e03df45b",
   "metadata": {},
   "source": [
    "Here is a breakdown of the dataframe above and what each column represents. \n",
    "\n",
    "\n",
    "|Column Name   | Description |\n",
    "|--------------|---------|\n",
    "|Date |The date the PM2.5 was measured  |\n",
    "|Time | The time the PM2.5 was measured |\n",
    "|GPS Lat | The latitude measurement of the location of the personal exposure measurement |\n",
    "|GPS Long | The longitude measurement of the location of the personal exposure measurement |\n",
    "|Mesh Lat | The latitude measurement of the location of the stationary mesh measurement |\n",
    "|Mesh Long| The longitude measurement of the location of the stationary mesh measurement |\n",
    "|PE PM2.5| PM2.5 measurement from the personal exposure (wearable) monitors|\n",
    "|Mesh PM2.5|PM2.5 measurement from the mesh (stationary) monitors |\n",
    "|Difference (PE PM25 - Mesh PM25) | The calculated difference between the personal exposure and mesh measurements|\n",
    "|EnvClass| Categories of microenvironments (H=home, W=work, T=transient, R=restaurant, S=shopping/retail, LI=leisure indoor, LO=leisure outdoor) |\n",
    "|Activity | Google Maps Label |"
   ]
  },
  {
   "cell_type": "markdown",
   "id": "d224bbdc",
   "metadata": {},
   "source": [
    "Now that we're more familiar with the dataset, let's see how we can use pandas to analyze it. "
   ]
  },
  {
   "cell_type": "markdown",
   "id": "f12be3f1",
   "metadata": {},
   "source": [
    "<br>\n",
    "\n",
    "# Introduction to Pandas"
   ]
  },
  {
   "cell_type": "markdown",
   "id": "d3e4dbe6",
   "metadata": {},
   "source": [
    "Pandas is an open-source library in python that is commonly used in data science for the purpose of data manipulation and data analysis. \n",
    "\n",
    "In this section you will learn about: \n",
    "- Dataframe structures\n",
    "- Data manipulation with pandas\n",
    "- Mapping environmental data\n",
    "\n",
    "**Note: Before you can use the pandas library always remeber that you have to import it first! We did this in the code cell above.**"
   ]
  },
  {
   "cell_type": "markdown",
   "id": "b92a7d6d",
   "metadata": {},
   "source": [
    "## Dataframes"
   ]
  },
  {
   "cell_type": "markdown",
   "id": "5ebdeb64",
   "metadata": {},
   "source": [
    "A [dataframe](http://pandas.pydata.org/pandas-docs/stable/dsintro.html#dataframe) is a table in which each column has a type; there is an index over the columns (typically string labels) and an index over the rows (typically ordinal numbers). To be specific, each row represents a single sample and each column represents a single category. The dataset above is an example of a dataframe. \n"
   ]
  },
  {
   "cell_type": "code",
   "execution_count": null,
   "id": "7449382e",
   "metadata": {
    "scrolled": true
   },
   "outputs": [],
   "source": [
    "# Run this cell to display the table\n",
    "data.head()"
   ]
  },
  {
   "cell_type": "markdown",
   "id": "7e96ecab",
   "metadata": {},
   "source": [
    "As you can see, each row consists of one sample and each column consists of one category."
   ]
  },
  {
   "cell_type": "markdown",
   "id": "8b72609d",
   "metadata": {},
   "source": [
    "## Structure of Dataframes"
   ]
  },
  {
   "cell_type": "markdown",
   "id": "39dde7e9",
   "metadata": {},
   "source": [
    "Transitioning to structures of dataframes, there are three important aspects of dataframes in pandas:\n",
    "- Dataframes: Are composed as 2D tabular data (like the table we see above) \n",
    "- Series: 1D data that is represented as a column\n",
    "- Index: A vertical sequence of row labels that is shown on the left of the dataframe.\n",
    "   - Indices aren't always represented as numbers. They can also be non-numeric and contain words (e.g. 'State')."
   ]
  },
  {
   "cell_type": "code",
   "execution_count": null,
   "id": "3d11305f",
   "metadata": {},
   "outputs": [],
   "source": [
    "# This entire table is known as a dataframe\n",
    "data.head()"
   ]
  },
  {
   "cell_type": "code",
   "execution_count": null,
   "id": "17abd794",
   "metadata": {},
   "outputs": [],
   "source": [
    "# Below is an example of a Series. Notice that it is simply the `Date` column of the previous table. \n",
    "pd.Series(data['Date'])"
   ]
  },
  {
   "cell_type": "markdown",
   "id": "f907f445",
   "metadata": {},
   "source": [
    "In the table above, the index is the unlabeled column on the far left of the table. It is simply the count of rows in the table."
   ]
  },
  {
   "cell_type": "markdown",
   "id": "4b460542",
   "metadata": {},
   "source": [
    "## Getting to know your DataFrame\n",
    " Starting from now, ```df``` will refer to any DataFrame. For example, if you saw a command written as ```df.shape``` and you want to do that on your DataFrame named ```data```, you would replace ```df``` with the name of your DataFrame. In this case, you would do ```data.shape```."
   ]
  },
  {
   "cell_type": "markdown",
   "id": "d53dc854",
   "metadata": {},
   "source": [
    "There are many useful operations you can do with just your DataFrame.\n",
    "For example, ```df.shape()``` shows you the shape of the DataFrame, returned as a tuple."
   ]
  },
  {
   "cell_type": "code",
   "execution_count": null,
   "id": "2b611587",
   "metadata": {
    "scrolled": true
   },
   "outputs": [],
   "source": [
    "data.shape"
   ]
  },
  {
   "cell_type": "markdown",
   "id": "5a7f93de",
   "metadata": {},
   "source": [
    "It looks like our dataset has 102187 rows and 11 columns!"
   ]
  },
  {
   "cell_type": "markdown",
   "id": "a04324c7",
   "metadata": {},
   "source": [
    "You can also use ```df.values``` to return the DataFrame as a NumPy array,"
   ]
  },
  {
   "cell_type": "code",
   "execution_count": null,
   "id": "14e132d8",
   "metadata": {},
   "outputs": [],
   "source": [
    "data.values"
   ]
  },
  {
   "cell_type": "markdown",
   "id": "5f9f8ca9",
   "metadata": {},
   "source": [
    "Another useful tool is ```df.columns```, which returns the columns of a DataFrame as an array."
   ]
  },
  {
   "cell_type": "code",
   "execution_count": null,
   "id": "f9461aa5",
   "metadata": {},
   "outputs": [],
   "source": [
    "data.columns"
   ]
  },
  {
   "cell_type": "markdown",
   "id": "cd11a1b6",
   "metadata": {},
   "source": [
    "<br>\n",
    "\n",
    "# Data Manipulation with Pandas\n",
    "\n",
    "Now that we have learned the basics about pandas dataframes and their structures, let's learn how to manipulate the dataframe! These excercises assume you are acquainted with basic Pandas operations - we will jump straight into data manipulation!"
   ]
  },
  {
   "cell_type": "markdown",
   "id": "3885a69c",
   "metadata": {},
   "source": [
    "Let's take a look at the PM 2.5 dataset we loaded earlier! Set ```num_rows``` to the number of rows in the DataFrame and ```num_cols``` to the number of columns in the DataFrame. You can do this either manually or by using a line of code. _Hint_ - what have we used before to get the dimensions of a DataFrame?"
   ]
  },
  {
   "cell_type": "code",
   "execution_count": null,
   "id": "ec092faf",
   "metadata": {},
   "outputs": [],
   "source": [
    "num_cols = ...\n",
    "num_rows = ..."
   ]
  },
  {
   "cell_type": "markdown",
   "id": "7d812f3a",
   "metadata": {},
   "source": [
    "We can see that we have many many rows! It's probably a bad idea to display all of them at once - it might lag our computers! Instead, we can use ```df.head()``` to see the first few rows."
   ]
  },
  {
   "cell_type": "code",
   "execution_count": null,
   "id": "5e18fe0f",
   "metadata": {},
   "outputs": [],
   "source": [
    "data.head()"
   ]
  },
  {
   "cell_type": "markdown",
   "id": "3e4bd167",
   "metadata": {},
   "source": [
    "## Slicing Data Frames"
   ]
  },
  {
   "cell_type": "markdown",
   "id": "a65bc79e",
   "metadata": {},
   "source": [
    "Often times dataframes are quite large and contain many rows and column, some of which are not relevant to the problem at hand. In these cases, it is useful to pull specific parts of the dataframe, often refered to as indexing or slicing, that are relevant to what you want to do. There are a few ways that you can do this."
   ]
  },
  {
   "cell_type": "markdown",
   "id": "d8acf62c",
   "metadata": {},
   "source": [
    "The `[]` operator is one way that you can access specific columns/series.\n",
    "\n",
    "**Note: If you've taken Data 8, the `[]` operator behaves the same as `tbl.column()` function**"
   ]
  },
  {
   "cell_type": "code",
   "execution_count": null,
   "id": "6eede16b",
   "metadata": {
    "scrolled": true
   },
   "outputs": [],
   "source": [
    "series = data['Date']\n",
    "series"
   ]
  },
  {
   "cell_type": "markdown",
   "id": "30c69b0b",
   "metadata": {},
   "source": [
    "As you can see from above, passing a name into the brackets produces a series. Alternatively, the cell below shows that passing a list into the brackets produces a dataframe.\n",
    "\n",
    "**Note: If you've taken Data 8, this behaves the same as the `tbl.select()` function**"
   ]
  },
  {
   "cell_type": "code",
   "execution_count": null,
   "id": "75238e14",
   "metadata": {},
   "outputs": [],
   "source": [
    "df = data[['PE PM2.5', 'Mesh PM2.5']]\n",
    "df"
   ]
  },
  {
   "cell_type": "markdown",
   "id": "85061b5a",
   "metadata": {},
   "source": [
    "Rows can be accessed by a method called slicing, which also uses the `[]` operator. This operator is used by including the starting point and the ending point. Take a look at the example below."
   ]
  },
  {
   "cell_type": "code",
   "execution_count": null,
   "id": "244a9f8b",
   "metadata": {},
   "outputs": [],
   "source": [
    "df[0:2] #Yields rows 0 to 1."
   ]
  },
  {
   "cell_type": "markdown",
   "id": "d78e4519",
   "metadata": {},
   "source": [
    "### Selection Using Label/Index (using loc)\n",
    "\n",
    "Another way to index and filter is by using the `.loc` function\n",
    "\n",
    "**Column Selection** \n",
    "\n",
    "To select a column of a `DataFrame` by column label, the safest and fastest way is to use the `.loc` [method](https://pandas.pydata.org/pandas-docs/stable/generated/pandas.DataFrame.loc.html). General usage of `.loc` looks like `df.loc[rowname, colname]`. (Reminder that the colon `:` means \"everything.\")  For example, if we want the `color` column of the `ex` data frame, we would use: `ex.loc[:, 'color']`\n",
    "\n",
    "**Row Selection**\n",
    "\n",
    "Similarly, if we want to select a row by its label, we can use the same `.loc` method. In this case, the \"label\" of each row refers to the index (ie. primary key) of the dataframe."
   ]
  },
  {
   "cell_type": "code",
   "execution_count": null,
   "id": "5a8e9ca5",
   "metadata": {},
   "outputs": [],
   "source": [
    "#Example:\n",
    "data.loc[2:5, 'Mesh PM2.5']"
   ]
  },
  {
   "cell_type": "markdown",
   "id": "dfce6612",
   "metadata": {},
   "source": [
    "If we wanted to return a DataFrame instead, we can use another pair of brackets around the column name, like so:"
   ]
  },
  {
   "cell_type": "code",
   "execution_count": null,
   "id": "1633802a",
   "metadata": {},
   "outputs": [],
   "source": [
    "#Example:  Notice the difference between these two methods\n",
    "#Just passing in 'Name' returns a Series while ['Name'] returns a Dataframe\n",
    "data.loc[2:5, ['Mesh PM2.5']]"
   ]
  },
  {
   "cell_type": "markdown",
   "id": "b2d6c65a",
   "metadata": {},
   "source": [
    "The `.loc` actually uses the Pandas **row index rather than row id/position of rows** in the dataframe to perform the selection. Also, notice that if you write `2:5` with `loc[]`, contrary to normal Python slicing functionality, the end index is included, so you get the row with index 5. This is a useful feature because sometimes if the index is not in order or if the index elements aren't integers, you would always need to know the index of the row after the last one you wanted to include, which can be annoying."
   ]
  },
  {
   "cell_type": "markdown",
   "id": "1f43b9bf",
   "metadata": {},
   "source": [
    "### Selection using Integer location (using iloc)"
   ]
  },
  {
   "cell_type": "markdown",
   "id": "25b7da88",
   "metadata": {},
   "source": [
    "Another way to slice is `iloc[]`, which takes in numbers instead of names when slicing. In addition, the end index is NOT included with `iloc[]`, similar to normal Python slicing.\n",
    "\n",
    "Below, we have sorted the `data` dataframe. Notice how the *position* of a row is not necessarily equal to the *index* of a row. For example, the first row is not necessarily the row associated with index 1. This distinction is important in understanding the different between `loc[]` and `iloc[]`."
   ]
  },
  {
   "cell_type": "code",
   "execution_count": null,
   "id": "ca6108f0",
   "metadata": {},
   "outputs": [],
   "source": [
    "sorted_data = data.sort_values(by=['Date'])\n",
    "sorted_data.head()"
   ]
  },
  {
   "cell_type": "markdown",
   "id": "910f7ad3",
   "metadata": {},
   "source": [
    "Here is an example of how we would get the 2nd, 3rd, and 4th rows with only the `GPS Long` column of the `data` dataframe using both `iloc[]` and `loc[]`. Observe the difference, especially after sorting `data` by date."
   ]
  },
  {
   "cell_type": "code",
   "execution_count": null,
   "id": "26ddd8df",
   "metadata": {},
   "outputs": [],
   "source": [
    "sorted_data.iloc[1:4, 3]"
   ]
  },
  {
   "cell_type": "markdown",
   "id": "632bb601",
   "metadata": {},
   "source": [
    "### Question 3(a)\n",
    "\n",
    "Select the `Date` column from the ```data``` DataFrame, using both `.loc` and `.iloc`. The `data` table is displayed again for reference.\n",
    "\n",
    "<!--\n",
    "BEGIN QUESTION\n",
    "name: q4\n",
    "-->"
   ]
  },
  {
   "cell_type": "code",
   "execution_count": null,
   "id": "808bed33",
   "metadata": {},
   "outputs": [],
   "source": [
    "# Fill in the ... to return the \"Date\" column!\n",
    "#date_loc = data.loc[...]\n",
    "#date_iloc = data.iloc[...]"
   ]
  },
  {
   "cell_type": "markdown",
   "id": "10831cae",
   "metadata": {},
   "source": [
    "We've been able to select one column (hopefully), but what if we wanted to select more than 1? Thankfully, there is a way to do that - simply pass in the column names (for .loc) or column numbers (for .iloc) as a list or array!"
   ]
  },
  {
   "cell_type": "code",
   "execution_count": null,
   "id": "0062464d",
   "metadata": {},
   "outputs": [],
   "source": [
    "data.loc[:, [\"Date\", \"Time\", \"PE PM2.5\"]]"
   ]
  },
  {
   "cell_type": "markdown",
   "id": "38a502ee",
   "metadata": {},
   "source": [
    "## Filtering DataFrames"
   ]
  },
  {
   "cell_type": "markdown",
   "id": "cf2994a3",
   "metadata": {},
   "source": [
    "We can filter DataFrames using something called Boolean Indexing. They can be used on dataframes to access specific rows.\n",
    "\n",
    "**Note: If you've taken Data 8, logical operators behave the same as the `tbl.where()` function**"
   ]
  },
  {
   "cell_type": "code",
   "execution_count": null,
   "id": "39e7e69a",
   "metadata": {},
   "outputs": [],
   "source": [
    "# The code line below creates a table where the `Date` value is equal to '4/7/2019'\n",
    "data[data['Date'] == '4/7/2019']"
   ]
  },
  {
   "cell_type": "markdown",
   "id": "838e93c5",
   "metadata": {},
   "source": [
    "The `&` operator can be used to filter the rows by multiple conditions. "
   ]
  },
  {
   "cell_type": "code",
   "execution_count": null,
   "id": "c359066b",
   "metadata": {},
   "outputs": [],
   "source": [
    "# The code line below creates a table where the `Date` value is equal to '4/7/2019' and `EnvClass` is `S`\n",
    "data[(data['Date'] == '4/7/2019') & (data['EnvClass'] == 'S')]"
   ]
  },
  {
   "cell_type": "markdown",
   "id": "49c0ee54",
   "metadata": {},
   "source": [
    "## Aggregation\n",
    "What if we wanted to find the total number of PM 2.5 readings captured in Downtown UCR? Our current tools are not enough - we need aggregation!"
   ]
  },
  {
   "cell_type": "markdown",
   "id": "3239432e",
   "metadata": {},
   "source": [
    "Aggregation allows us to group things together and use functions. For example, we can group things by their column values using `df.groupby(\"columnName\")`, which would group all of the same instances in that column together, which would then allow us to perform operations on them by using `.agg(functionName)`. For example, we can use the function `np.mean` to find the average `PE PM2.5`  for each `Activity` value."
   ]
  },
  {
   "cell_type": "code",
   "execution_count": null,
   "id": "76e9f69c",
   "metadata": {},
   "outputs": [],
   "source": [
    "activity_avg = data[['PE PM2.5', 'Activity']].groupby('Activity').agg(np.mean)\n",
    "activity_avg"
   ]
  },
  {
   "cell_type": "markdown",
   "id": "0c0c3485",
   "metadata": {},
   "source": [
    "Sorting this by count using `df.sort_values()` would then allow us to see which `Activity` has the highest PM 2.5 average."
   ]
  },
  {
   "cell_type": "code",
   "execution_count": null,
   "id": "d741f03e",
   "metadata": {},
   "outputs": [],
   "source": [
    "activity_avg.sort_values(by=\"PE PM2.5\", ascending=False)"
   ]
  },
  {
   "cell_type": "markdown",
   "id": "ab01da3b",
   "metadata": {},
   "source": [
    "It seems that \"WaBa Grill\" has the highest average!"
   ]
  },
  {
   "cell_type": "markdown",
   "id": "b03b5861",
   "metadata": {},
   "source": [
    "<br>\n",
    "\n",
    "# Mapping with `folium` "
   ]
  },
  {
   "cell_type": "markdown",
   "id": "8fad264c",
   "metadata": {},
   "source": [
    "Mapping - import relief or political map  and superimpose over points"
   ]
  },
  {
   "cell_type": "markdown",
   "id": "4c141f8c",
   "metadata": {},
   "source": [
    "Now let's learn how to visualize location data using the `folium` library! This library allows you to easily build powerful interactive maps.\n",
    "\n",
    "Let's start by importing the `folium` library"
   ]
  },
  {
   "cell_type": "code",
   "execution_count": null,
   "id": "d27d5b92",
   "metadata": {},
   "outputs": [],
   "source": [
    "import folium\n",
    "import folium.plugins"
   ]
  },
  {
   "cell_type": "markdown",
   "id": "6a6392b8",
   "metadata": {},
   "source": [
    "To make this section easier, let's select only the columns of the data we'll be using to create our maps. We'll also only be using a sample of 200 latitude and longitude combinations to help with runtime."
   ]
  },
  {
   "cell_type": "code",
   "execution_count": null,
   "id": "47e98b28",
   "metadata": {},
   "outputs": [],
   "source": [
    "map_data = data[[\"GPS Lat\", \"GPS Long\", \"PE PM2.5\"]].sample(200)"
   ]
  },
  {
   "cell_type": "markdown",
   "id": "96a0064b",
   "metadata": {},
   "source": [
    "To create a map with `folium`, you need to specify where the map should be centered at. Let's use the average of all the latitudes (North/South position) and longitudes (East/West position)."
   ]
  },
  {
   "cell_type": "code",
   "execution_count": null,
   "id": "4c07a623",
   "metadata": {},
   "outputs": [],
   "source": [
    "initial_lat = map_data[\"GPS Lat\"].mean()\n",
    "initial_long = map_data[\"GPS Long\"].mean()\n",
    "\n",
    "print(initial_lat, initial_long)"
   ]
  },
  {
   "cell_type": "markdown",
   "id": "91f9ca02",
   "metadata": {},
   "source": [
    "Next, we'll initalize a `folium` map using the `folium.Map()` command.\n",
    "\n",
    "Some of the arguments we have to specifiy are:\n",
    " * Starting location using the mean of latitude and longitude like we did above (`location`)\n",
    " * How zoomed in/out we want our map to start at (`zoom_start`)"
   ]
  },
  {
   "cell_type": "code",
   "execution_count": null,
   "id": "3f3093ad",
   "metadata": {},
   "outputs": [],
   "source": [
    "our_map = folium.Map(location = [initial_lat, initial_long],\n",
    "                    zoom_start = 12)\n",
    "our_map"
   ]
  },
  {
   "cell_type": "markdown",
   "id": "ff7b05d4",
   "metadata": {},
   "source": [
    "Now we have a map! You can click the map and drag around to move the map and zoom in or out using your mouse. Try it out!"
   ]
  },
  {
   "cell_type": "markdown",
   "id": "a7ffa4bc",
   "metadata": {},
   "source": [
    "Now let's add some data to the blank map. This next cell goes through all of the rows in the dataframe and adds a marker for each location. When you click on the marker, it displays the PM 2.5 reading taken at that location.\n",
    "\n",
    "Let's break this down line by line:\n",
    "* `for _, k in map_data.dropna().iterrows():` Goes through all the rows in the dataframe that are *not* `nan` values. (NaN values break the `folium` map)\n",
    "* `folium.Marker([k[\"GPS Lat\"], k[\"GPS Long\"]],` Creates a `folium` marker at the latitude and longitude specified.\n",
    "* `popup = k[\"PE PM2.5\"]).add_to(our_map)` Adds a popup description for when you click on the marker and adds the marker to the map."
   ]
  },
  {
   "cell_type": "code",
   "execution_count": null,
   "id": "02253219",
   "metadata": {},
   "outputs": [],
   "source": [
    "for _, k in map_data.dropna().iterrows():\n",
    "    folium.Marker([k[\"GPS Lat\"], k[\"GPS Long\"]],\n",
    "                 popup = k[\"PE PM2.5\"]).add_to(our_map)"
   ]
  },
  {
   "cell_type": "code",
   "execution_count": null,
   "id": "664f4150",
   "metadata": {},
   "outputs": [],
   "source": [
    "our_map"
   ]
  },
  {
   "cell_type": "markdown",
   "id": "eb81f138",
   "metadata": {},
   "source": [
    "Now let's look at some other ways `folium` can be used. You don't have to understand all of the code, but you should be able to see the parallels between this example and the one we just went through."
   ]
  },
  {
   "cell_type": "code",
   "execution_count": null,
   "id": "565b3854",
   "metadata": {},
   "outputs": [],
   "source": [
    "map_viz = folium.Map(location = [data[\"GPS Lat\"].mean(),\n",
    "                            data[\"GPS Long\"].mean()],\n",
    "                zoom_start = 12,\n",
    "                control_scale=True)"
   ]
  },
  {
   "cell_type": "code",
   "execution_count": null,
   "id": "d924d014",
   "metadata": {},
   "outputs": [],
   "source": [
    "cluster = folium.plugins.MarkerCluster()\n",
    "for _, k in data[[\"GPS Lat\", \"GPS Long\", \"PE PM2.5\"]].dropna().iterrows():\n",
    "    cluster.add_child(\n",
    "        folium.Marker([float(k[\"GPS Lat\"]), float(k[\"GPS Long\"])], popup=k[\"PE PM2.5\"]))"
   ]
  },
  {
   "cell_type": "code",
   "execution_count": null,
   "id": "397d1ffb",
   "metadata": {},
   "outputs": [],
   "source": [
    "map_viz.add_child(cluster)\n",
    "map_viz"
   ]
  },
  {
   "cell_type": "markdown",
   "id": "4a0b14d2",
   "metadata": {},
   "source": [
    "**Congratulations! You've made it to the end of this introductory notebook! We covered a lot of concepts and functions in this notebook, and now you're well equipt to begin your own data manipulation and analysis of pandas dataframes in the coming notebooks!**"
   ]
  },
  {
   "cell_type": "markdown",
   "id": "ace0c36a",
   "metadata": {},
   "source": [
    "<br>\n",
    "\n",
    "Created by Aaron Moore, Chuyi Shang, Melisa Esqueda, Kinsey Long & Karalyn Chong"
   ]
  }
 ],
 "metadata": {
  "kernelspec": {
   "display_name": "Python 3 (ipykernel)",
   "language": "python",
   "name": "python3"
  },
  "language_info": {
   "codemirror_mode": {
    "name": "ipython",
    "version": 3
   },
   "file_extension": ".py",
   "mimetype": "text/x-python",
   "name": "python",
   "nbconvert_exporter": "python",
   "pygments_lexer": "ipython3",
   "version": "3.9.13"
  }
 },
 "nbformat": 4,
 "nbformat_minor": 5
}
